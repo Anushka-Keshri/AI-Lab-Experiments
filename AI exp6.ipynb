{
 "cells": [
  {
   "cell_type": "code",
   "execution_count": 4,
   "id": "88d8a13e-3862-4e69-9ed5-d43e7a1ed561",
   "metadata": {},
   "outputs": [
    {
     "name": "stdout",
     "output_type": "stream",
     "text": [
      "The optimal value is: 5\n"
     ]
    }
   ],
   "source": [
    "import math\n",
    "def alpha_beta_pruning(depth, node_index, is_max, values, alpha, beta):\n",
    "    if depth == 3:\n",
    "        return values[node_index]\n",
    "    if is_max:\n",
    "        best = -math.inf\n",
    "        for i in range(2):\n",
    "            val = alpha_beta_pruning(depth + 1, node_index * 2 + i, False, values, alpha, beta)\n",
    "            best = max(best, val)\n",
    "            alpha = max(alpha, best)\n",
    "            if beta <= alpha:\n",
    "                break\n",
    "        return best\n",
    "    else:\n",
    "        best = math.inf\n",
    "        for i in range(2):\n",
    "            val = alpha_beta_pruning(depth + 1, node_index * 2 + i, True, values, alpha, beta)\n",
    "            best = min(best, val)\n",
    "            beta = min(beta, best)\n",
    "            if beta <= alpha:\n",
    "                break\n",
    "        return best\n",
    "values = [3, 5, 6, 9, 1, 2, 0, -1]\n",
    "optimal_value = alpha_beta_pruning(0, 0, True, values, -math.inf, math.inf)\n",
    "print(\"The optimal value is:\", optimal_value)"
   ]
  },
  {
   "cell_type": "code",
   "execution_count": null,
   "id": "7b71da64-f05f-41bc-b155-3093371e4810",
   "metadata": {},
   "outputs": [],
   "source": []
  }
 ],
 "metadata": {
  "kernelspec": {
   "display_name": "Python 3 (ipykernel)",
   "language": "python",
   "name": "python3"
  },
  "language_info": {
   "codemirror_mode": {
    "name": "ipython",
    "version": 3
   },
   "file_extension": ".py",
   "mimetype": "text/x-python",
   "name": "python",
   "nbconvert_exporter": "python",
   "pygments_lexer": "ipython3",
   "version": "3.12.4"
  }
 },
 "nbformat": 4,
 "nbformat_minor": 5
}
