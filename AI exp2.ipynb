{
 "cells": [
  {
   "cell_type": "code",
   "execution_count": 12,
   "id": "9beadeb2-1d64-4cbf-b117-9fbde8f08e95",
   "metadata": {},
   "outputs": [
    {
     "name": "stdout",
     "output_type": "stream",
     "text": [
      "Dataframe: \n",
      "      Name  Age Department  Salary\n",
      "0    Alice   24         HR   50000\n",
      "1      Bob   27    FINANCE   60000\n",
      "2  Charlie   22         IT   55000\n",
      "3    David   32  MARKETING   65000\n",
      "\n",
      "Names: \n",
      "0      Alice\n",
      "1        Bob\n",
      "2    Charlie\n",
      "3      David\n",
      "Name: Name, dtype: object\n",
      "\n",
      "Salary max: 65000\n",
      "\n",
      "Salary min: 50000\n",
      "      Name  Age Department  Salary\n",
      "2  Charlie   22         IT   55000\n",
      "3    David   32  MARKETING   65000\n",
      "\n",
      "Salary mean:  57500.0\n",
      "\n",
      "Info of Data Frame\n",
      " <bound method DataFrame.info of       Name  Age Department  Salary\n",
      "0    Alice   24         HR   50000\n",
      "1      Bob   27    FINANCE   60000\n",
      "2  Charlie   22         IT   55000\n",
      "3    David   32  MARKETING   65000>\n"
     ]
    }
   ],
   "source": [
    "import pandas as pd\n",
    "data = {\"Name\":[\"Alice\",\"Bob\",\"Charlie\",\"David\"],\"Age\":[24,27,22,32],\"Department\":[\"HR\",\"FINANCE\",\"IT\",\"MARKETING\"],\"Salary\":[50000,60000,55000,65000]}\n",
    "df=pd.DataFrame(data)\n",
    "print(\"Dataframe: \")\n",
    "print(df)\n",
    "print(\"\\nNames: \")\n",
    "print(df[\"Name\"])\n",
    "print(\"\\nSalary max:\",df[\"Salary\"].max())\n",
    "print(\"\\nSalary min:\",df[\"Salary\"].min())\n",
    "print(df.iloc[2:5])\n",
    "print(\"\\nSalary mean: \",df[\"Salary\"].mean())\n",
    "print(\"\\nInfo of Data Frame\\n\",df.info)"
   ]
  },
  {
   "cell_type": "code",
   "execution_count": null,
   "id": "c9247c94-7d89-400c-a7d9-97a8d869a98b",
   "metadata": {},
   "outputs": [],
   "source": []
  }
 ],
 "metadata": {
  "kernelspec": {
   "display_name": "Python 3 (ipykernel)",
   "language": "python",
   "name": "python3"
  },
  "language_info": {
   "codemirror_mode": {
    "name": "ipython",
    "version": 3
   },
   "file_extension": ".py",
   "mimetype": "text/x-python",
   "name": "python",
   "nbconvert_exporter": "python",
   "pygments_lexer": "ipython3",
   "version": "3.12.4"
  }
 },
 "nbformat": 4,
 "nbformat_minor": 5
}
