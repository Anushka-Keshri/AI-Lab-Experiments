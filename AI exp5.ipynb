{
 "cells": [
  {
   "cell_type": "code",
   "execution_count": 2,
   "id": "9edddb21-d6c3-4909-b141-ae41cb9fda62",
   "metadata": {},
   "outputs": [
    {
     "name": "stdout",
     "output_type": "stream",
     "text": [
      "Best x:  0.7424, Best value:  3.7424\n"
     ]
    }
   ],
   "source": [
    "import random\n",
    "\n",
    "def objective_function(x):\n",
    "    return x+3\n",
    "\n",
    "def hill_climb(start, step_size=0.1, max_iterations=100):\n",
    "    current_x = start\n",
    "    current_value = objective_function(current_x)\n",
    "\n",
    "    for i in range(max_iterations):\n",
    "        neighbor = current_x + random.choice([-step_size, step_size])\n",
    "        neighbor_value = objective_function(neighbor)\n",
    "\n",
    "        if neighbor_value > current_value:\n",
    "            current_x, current_value = neighbor, neighbor_value\n",
    "        else:\n",
    "            break\n",
    "\n",
    "    return current_x, current_value\n",
    "\n",
    "start_x = random.uniform(0, 5)\n",
    "best_x, best_value = hill_climb(start_x)\n",
    "\n",
    "print(f'Best x: {best_x: .4f}, Best value: {best_value: .4f}')"
   ]
  },
  {
   "cell_type": "code",
   "execution_count": null,
   "id": "4dd63bba-0136-4632-81d0-ff6a90bb05e0",
   "metadata": {},
   "outputs": [],
   "source": []
  }
 ],
 "metadata": {
  "kernelspec": {
   "display_name": "Python 3 (ipykernel)",
   "language": "python",
   "name": "python3"
  },
  "language_info": {
   "codemirror_mode": {
    "name": "ipython",
    "version": 3
   },
   "file_extension": ".py",
   "mimetype": "text/x-python",
   "name": "python",
   "nbconvert_exporter": "python",
   "pygments_lexer": "ipython3",
   "version": "3.12.4"
  }
 },
 "nbformat": 4,
 "nbformat_minor": 5
}
