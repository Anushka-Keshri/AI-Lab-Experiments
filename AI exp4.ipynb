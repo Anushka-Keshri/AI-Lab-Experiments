{
 "cells": [
  {
   "cell_type": "code",
   "execution_count": 4,
   "id": "e336ff6e-c05a-4876-a2f0-34d5082583f4",
   "metadata": {},
   "outputs": [
    {
     "name": "stdout",
     "output_type": "stream",
     "text": [
      "Shortest path: ['A', 'C', 'D']\n",
      "Total cost: 5\n"
     ]
    }
   ],
   "source": [
    "import heapq\n",
    "class Graph:\n",
    "    def __init__(self):\n",
    "        self.graph = {}\n",
    "    def add_edge(self, node1, node2, cost):\n",
    "        if node1 not in self.graph:\n",
    "            self.graph[node1] = []\n",
    "        if node2 not in self.graph:\n",
    "            self.graph[node2] = []\n",
    "        self.graph[node1].append((node2, cost))\n",
    "        self.graph[node2].append((node1, cost))\n",
    "    def a_star(self, start, goal, heuristic):\n",
    "        open_list = []\n",
    "        heapq.heappush(open_list, (0 + heuristic[start], 0, start, []))\n",
    "        closed_set = set()\n",
    "        while open_list:\n",
    "            _, cost, current, path = heapq.heappop(open_list)\n",
    "            if current in closed_set:\n",
    "                continue\n",
    "            path = path + [current]\n",
    "            closed_set.add(current)\n",
    "            if current == goal:\n",
    "                return path, cost\n",
    "            for neighbor, edge_cost in self.graph.get(current, []):\n",
    "                if neighbor not in closed_set:\n",
    "                    heapq.heappush(open_list, (cost + edge_cost + heuristic[neighbor], cost + edge_cost, neighbor, path))\n",
    "        return None, float(\"inf\")\n",
    "graph = Graph()\n",
    "graph.add_edge(\"A\", \"B\", 1)\n",
    "graph.add_edge(\"A\", \"C\", 4)\n",
    "graph.add_edge(\"B\", \"C\", 2)\n",
    "graph.add_edge(\"B\", \"D\", 5)\n",
    "graph.add_edge(\"C\", \"D\", 1)\n",
    "test_heuristic = {\"A\": 7, \"B\": 6, \"C\": 2, \"D\": 0}\n",
    "path, cost = graph.a_star(\"A\", \"D\", test_heuristic)\n",
    "print(\"Shortest path:\", path)\n",
    "print(\"Total cost:\", cost)"
   ]
  },
  {
   "cell_type": "code",
   "execution_count": null,
   "id": "f636cf35-dd44-4fbf-9c95-1bff94e52f3a",
   "metadata": {},
   "outputs": [],
   "source": []
  }
 ],
 "metadata": {
  "kernelspec": {
   "display_name": "Python 3 (ipykernel)",
   "language": "python",
   "name": "python3"
  },
  "language_info": {
   "codemirror_mode": {
    "name": "ipython",
    "version": 3
   },
   "file_extension": ".py",
   "mimetype": "text/x-python",
   "name": "python",
   "nbconvert_exporter": "python",
   "pygments_lexer": "ipython3",
   "version": "3.12.4"
  }
 },
 "nbformat": 4,
 "nbformat_minor": 5
}
