{
 "cells": [
  {
   "cell_type": "code",
   "execution_count": 2,
   "id": "4752f970-c400-418c-b45e-f6056ae7dc9f",
   "metadata": {},
   "outputs": [
    {
     "name": "stdout",
     "output_type": "stream",
     "text": [
      "Least-cost path from A to G: ['A', 'B', 'E', 'G']\n",
      "Total Cost: 9\n"
     ]
    }
   ],
   "source": [
    "import heapq\n",
    "def uniform_cost_search(graph, start, goal):\n",
    "    priority_queue = [(0, start, [])]\n",
    "    visited = set()\n",
    "    while priority_queue:\n",
    "        cost, node, path = heapq.heappop(priority_queue)\n",
    "        if node in visited:\n",
    "            continue\n",
    "        path = path + [node]\n",
    "        visited.add(node)\n",
    "        if node == goal:\n",
    "            return cost, path\n",
    "        for neighbor, edge_cost in graph.get(node, []):\n",
    "            if neighbor not in visited:\n",
    "                heapq.heappush(priority_queue, (cost + edge_cost, neighbor, path))\n",
    "    return float('inf'), []\n",
    "graph = {'A': [('B', 2), ('C', 3)], 'B': [('A', 2), ('D', 1), ('E', 5)], 'C': [('A', 3), ('F', 6)], 'D': [('B', 1)], 'E': [('B', 5), ('G', 2)], 'F': [('C', 6)], 'G': [('E', 2)]}\n",
    "start_node = 'A'\n",
    "goal_node = 'G'\n",
    "cost, path = uniform_cost_search(graph, start_node, goal_node)\n",
    "print(f\"Least-cost path from {start_node} to {goal_node}: {path}\")\n",
    "print(f\"Total Cost: {cost}\")"
   ]
  },
  {
   "cell_type": "code",
   "execution_count": null,
   "id": "5536de04-84f0-4097-b162-d539ef4bec61",
   "metadata": {},
   "outputs": [],
   "source": []
  }
 ],
 "metadata": {
  "kernelspec": {
   "display_name": "Python 3 (ipykernel)",
   "language": "python",
   "name": "python3"
  },
  "language_info": {
   "codemirror_mode": {
    "name": "ipython",
    "version": 3
   },
   "file_extension": ".py",
   "mimetype": "text/x-python",
   "name": "python",
   "nbconvert_exporter": "python",
   "pygments_lexer": "ipython3",
   "version": "3.12.4"
  }
 },
 "nbformat": 4,
 "nbformat_minor": 5
}
