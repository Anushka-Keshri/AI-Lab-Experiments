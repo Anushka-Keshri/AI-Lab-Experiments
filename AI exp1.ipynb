{
 "cells": [
  {
   "cell_type": "code",
   "execution_count": 4,
   "id": "5d4718c7-f0d9-4d67-9199-86b2159b007f",
   "metadata": {},
   "outputs": [
    {
     "name": "stdout",
     "output_type": "stream",
     "text": [
      "Original Array: [12  4 56 17  8 99  5]\n",
      "Sorted Array: [ 4  5  8 12 17 56 99]\n"
     ]
    }
   ],
   "source": [
    "import numpy as np\n",
    "a = np.array([12, 4, 56, 17, 8, 99, 5])\n",
    "a_sorted = np.sort(a)\n",
    "print(\"Original Array:\", a)\n",
    "print(\"Sorted Array:\", a_sorted)"
   ]
  },
  {
   "cell_type": "code",
   "execution_count": null,
   "id": "bd01047a-2168-4dc3-a83a-46aa9c1dde63",
   "metadata": {},
   "outputs": [],
   "source": []
  }
 ],
 "metadata": {
  "kernelspec": {
   "display_name": "Python 3 (ipykernel)",
   "language": "python",
   "name": "python3"
  },
  "language_info": {
   "codemirror_mode": {
    "name": "ipython",
    "version": 3
   },
   "file_extension": ".py",
   "mimetype": "text/x-python",
   "name": "python",
   "nbconvert_exporter": "python",
   "pygments_lexer": "ipython3",
   "version": "3.12.4"
  }
 },
 "nbformat": 4,
 "nbformat_minor": 5
}
